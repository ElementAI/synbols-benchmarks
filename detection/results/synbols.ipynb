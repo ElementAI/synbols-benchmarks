{
 "cells": [
  {
   "cell_type": "code",
   "execution_count": 9,
   "metadata": {
    "scrolled": true
   },
   "outputs": [
    {
     "data": {
      "text/plain": [
       "'Selected 8/8 experiments using \"filterby_list\"'"
      ]
     },
     "metadata": {},
     "output_type": "display_data"
    },
    {
     "data": {
      "application/vnd.jupyter.widget-view+json": {
       "model_id": "db1217ae5c664234b9b6f2546cbeb339",
       "version_major": 2,
       "version_minor": 0
      },
      "text/plain": [
       "VBox(children=(Label(value='Select exp_group', layout=Layout(width='200px')), HBox(children=(Dropdown(layout=L…"
      ]
     },
     "metadata": {},
     "output_type": "display_data"
    },
    {
     "data": {
      "application/javascript": [
       "\n",
       "        require.config({\n",
       "            paths: {\n",
       "                DT: '//cdn.datatables.net/1.10.19/js/jquery.dataTables.min',\n",
       "            }\n",
       "        });\n",
       "        $('head').append('<link rel=\"stylesheet\" type=\"text/css\" href=\"//cdn.datatables.net/1.10.19/css/jquery.dataTables.min.css\">');\n",
       "    "
      ],
      "text/plain": [
       "<IPython.core.display.Javascript object>"
      ]
     },
     "metadata": {},
     "output_type": "display_data"
    },
    {
     "data": {
      "application/vnd.jupyter.widget-view+json": {
       "model_id": "590abbbd96fe4368b48a88fe482681cc",
       "version_major": 2,
       "version_minor": 0
      },
      "text/plain": [
       "Output()"
      ]
     },
     "metadata": {},
     "output_type": "display_data"
    },
    {
     "data": {
      "text/html": [
       "<style>.container { width:100% !important; }</style>"
      ],
      "text/plain": [
       "<IPython.core.display.HTML object>"
      ]
     },
     "metadata": {},
     "output_type": "display_data"
    },
    {
     "data": {
      "text/html": [
       "\n",
       "        <style>\n",
       "            .output_scroll {\n",
       "                height: unset !important;\n",
       "                border-radius: unset !important;\n",
       "                -webkit-box-shadow: unset !important;\n",
       "                box-shadow: unset !important;\n",
       "            }\n",
       "        </style>\n",
       "        "
      ],
      "text/plain": [
       "<IPython.core.display.HTML object>"
      ]
     },
     "metadata": {},
     "output_type": "display_data"
    },
    {
     "data": {
      "text/plain": [
       "<haven.haven_jupyter.DashboardManager at 0x7f901ae72410>"
      ]
     },
     "execution_count": 9,
     "metadata": {},
     "output_type": "execute_result"
    }
   ],
   "source": [
    "from haven import haven_jupyter as hj\n",
    "from haven import haven_results as hr\n",
    "from haven import haven_utils as hu\n",
    "\n",
    "# path to where the experiments got saved\n",
    "savedir_base = ''\n",
    "fname = ''\n",
    "exp_list = []\n",
    "for exp_group in [\n",
    "    \"synbols_count\"\n",
    "#     \"debug_dagan\",\n",
    "#     \"debug_vae_small\",\n",
    "#     \"debug_cgan\"\n",
    "                 ]:\n",
    "    exp_list += hu.load_py(fname).EXP_GROUPS[exp_group]\n",
    "\n",
    "# get experiments\n",
    "rm = hr.ResultManager(exp_list=exp_list, \n",
    "                      savedir_base=savedir_base, \n",
    "                      verbose=0\n",
    "                     )\n",
    "y_metrics = ['train_loss', 'mae', 'game']\n",
    "bar_agg = 'max'\n",
    "mode = 'line'\n",
    "figsize = (8,5)\n",
    "figsize = (20,10)\n",
    "legend_list = ['model.loss',]\n",
    "legend_format = 'loss: {}'\n",
    "title_list = ['dataset', 'batch_size']\n",
    "title_format = '{} - batch size: {}'\n",
    "# groupby_list = ['batch_size']\n",
    "# groupby_list = ['lr']\n",
    "groupby_list = ['dataset']\n",
    "# filterby_list = None\n",
    "# filterby_list = {'dataset':'svhn'}\n",
    "filterby_list=None\n",
    "# filterby_list = {'dataset':'mnist'}\n",
    "# filterby_list = {'dataset':'omniglot'}\n",
    "# filterby_list = {'mixup_k':5, 'dataset':'mnist'}\n",
    "n_images = 10\n",
    "n_exps = 100\n",
    "hj.get_dashboard(rm, vars(), wide_display=True)"
   ]
  }
 ],
 "metadata": {
  "kernelspec": {
   "display_name": "Python 3",
   "language": "python",
   "name": "python3"
  },
  "language_info": {
   "codemirror_mode": {
    "name": "ipython",
    "version": 3
   },
   "file_extension": ".py",
   "mimetype": "text/x-python",
   "name": "python",
   "nbconvert_exporter": "python",
   "pygments_lexer": "ipython3",
   "version": "3.7.6"
  }
 },
 "nbformat": 4,
 "nbformat_minor": 4
}